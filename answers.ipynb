{
 "cells": [
  {
   "cell_type": "markdown",
   "id": "8ea24259",
   "metadata": {},
   "source": [
    "# import libraries"
   ]
  },
  {
   "cell_type": "code",
   "execution_count": 33,
   "id": "e0bb042a",
   "metadata": {},
   "outputs": [],
   "source": [
    "import pandas as pd"
   ]
  },
  {
   "cell_type": "markdown",
   "id": "54993cbf",
   "metadata": {},
   "source": [
    "# import data"
   ]
  },
  {
   "cell_type": "code",
   "execution_count": 15,
   "id": "f293a7c4",
   "metadata": {},
   "outputs": [],
   "source": [
    "df = pd.read_csv('sales_export.csv')\n"
   ]
  },
  {
   "cell_type": "markdown",
   "id": "ab3ae42a",
   "metadata": {},
   "source": [
    "# EDA"
   ]
  },
  {
   "cell_type": "code",
   "execution_count": 16,
   "id": "9d29e5ce",
   "metadata": {},
   "outputs": [],
   "source": [
    "# check the first few records\n",
    "df2 = df.head(5)"
   ]
  },
  {
   "cell_type": "code",
   "execution_count": null,
   "id": "c5fffbca",
   "metadata": {},
   "outputs": [
    {
     "ename": "",
     "evalue": "",
     "output_type": "error",
     "traceback": [
      "\u001b[1;31mRunning cells with 'Python 3.11.9' requires the ipykernel package.\n",
      "\u001b[1;31m<a href='command:jupyter.createPythonEnvAndSelectController'>Create a Python Environment</a> with the required packages.\n",
      "\u001b[1;31mOr install 'ipykernel' using the command: 'c:/Users/AngusWong/AppData/Local/Microsoft/WindowsApps/python3.11.exe -m pip install ipykernel -U --user --force-reinstall'"
     ]
    }
   ],
   "source": [
    "# get the info\n",
    "# not 100% what this meant\n",
    "df2 \n",
    "df2.describe()"
   ]
  },
  {
   "cell_type": "code",
   "execution_count": 18,
   "id": "b092f0e2",
   "metadata": {},
   "outputs": [
    {
     "data": {
      "text/plain": [
       "Index(['store_number', 'terminal', 'store_name', 'sale_id', 'customerid',\n",
       "       'sale_date', 'product_description', 'sale_start_time', 'sale_end_time',\n",
       "       'sale_type', 'line_number', 'cashier_number', 'cashier_name',\n",
       "       'customer_name', 'customer_member_level', 'customer_phone',\n",
       "       'customer_address', 'customer_city', 'customer_zip', 'product_code',\n",
       "       'sub_department', 'sale_qty', 'sale_price', 'weight', 'price',\n",
       "       'price_split', 'fs', 'fsa', 'tax1', 'tax2', 'tax3', 'tax4', 'tax5',\n",
       "       'tax6', 'tax7', 'wic', 'scalable', 'follow_sub', 'price_type',\n",
       "       'product_description.1', 'cost', 'case_size', 'void_flag',\n",
       "       'refund_flag', 'price_modification', 'store_coupon', 'vendor_coupon',\n",
       "       'category', 'category_description', 'sub_department_description',\n",
       "       'vendor_id', 'vendor_name', 'package_discount', 'limited_discount',\n",
       "       'item_discount_amount', 'item_discount_percent', 'elec_store_coupon',\n",
       "       'qty', 'total_sales', 'customer_state', 'store_address', 'store_city',\n",
       "       'store_state', 'store_zip', 'store_phone', 'brand', 'size', 'points',\n",
       "       'redeemed_points', 'price_modification.1'],\n",
       "      dtype='object')"
      ]
     },
     "execution_count": 18,
     "metadata": {},
     "output_type": "execute_result"
    }
   ],
   "source": [
    "# display the column names\n",
    "# I find myself open doing df.column.tolist() for legibility and easier indexing\n",
    "df.columns"
   ]
  },
  {
   "cell_type": "markdown",
   "id": "7b225a72",
   "metadata": {},
   "source": [
    "## show voided items\n",
    "void_flag should equal 1"
   ]
  },
  {
   "cell_type": "code",
   "execution_count": null,
   "id": "bb49a821",
   "metadata": {},
   "outputs": [
    {
     "data": {
      "text/html": [
       "<div>\n",
       "<style scoped>\n",
       "    .dataframe tbody tr th:only-of-type {\n",
       "        vertical-align: middle;\n",
       "    }\n",
       "\n",
       "    .dataframe tbody tr th {\n",
       "        vertical-align: top;\n",
       "    }\n",
       "\n",
       "    .dataframe thead th {\n",
       "        text-align: right;\n",
       "    }\n",
       "</style>\n",
       "<table border=\"1\" class=\"dataframe\">\n",
       "  <thead>\n",
       "    <tr style=\"text-align: right;\">\n",
       "      <th></th>\n",
       "      <th>product_code</th>\n",
       "      <th>sale_type</th>\n",
       "      <th>void_flag</th>\n",
       "    </tr>\n",
       "  </thead>\n",
       "  <tbody>\n",
       "    <tr>\n",
       "      <th>2</th>\n",
       "      <td>1.300000e+01</td>\n",
       "      <td>SALE</td>\n",
       "      <td>1</td>\n",
       "    </tr>\n",
       "    <tr>\n",
       "      <th>3</th>\n",
       "      <td>2.100060e+09</td>\n",
       "      <td>SALE</td>\n",
       "      <td>1</td>\n",
       "    </tr>\n",
       "    <tr>\n",
       "      <th>4</th>\n",
       "      <td>4.133383e+09</td>\n",
       "      <td>SALE</td>\n",
       "      <td>1</td>\n",
       "    </tr>\n",
       "    <tr>\n",
       "      <th>49</th>\n",
       "      <td>1.600029e+08</td>\n",
       "      <td>SALE</td>\n",
       "      <td>1</td>\n",
       "    </tr>\n",
       "  </tbody>\n",
       "</table>\n",
       "</div>"
      ],
      "text/plain": [
       "    product_code sale_type  void_flag\n",
       "2   1.300000e+01      SALE          1\n",
       "3   2.100060e+09      SALE          1\n",
       "4   4.133383e+09      SALE          1\n",
       "49  1.600029e+08      SALE          1"
      ]
     },
     "execution_count": 19,
     "metadata": {},
     "output_type": "execute_result"
    }
   ],
   "source": [
    "# you can also loc, but i like this syntax better even tho its less pythonic/idomatic\n",
    "df[df['void_flag']== 1][['product_code','sale_type','void_flag']] \n"
   ]
  },
  {
   "cell_type": "markdown",
   "id": "360c424f",
   "metadata": {},
   "source": [
    "![voided](images/voided_items.png)"
   ]
  },
  {
   "cell_type": "markdown",
   "id": "7ec38316",
   "metadata": {},
   "source": [
    "## show refund items\n",
    "refund_flag should equal 1"
   ]
  },
  {
   "cell_type": "markdown",
   "id": "9f212434",
   "metadata": {},
   "source": [
    "![refunds](images/refunds1.png)"
   ]
  },
  {
   "cell_type": "code",
   "execution_count": 24,
   "id": "fbcd0595",
   "metadata": {},
   "outputs": [
    {
     "data": {
      "text/html": [
       "<div>\n",
       "<style scoped>\n",
       "    .dataframe tbody tr th:only-of-type {\n",
       "        vertical-align: middle;\n",
       "    }\n",
       "\n",
       "    .dataframe tbody tr th {\n",
       "        vertical-align: top;\n",
       "    }\n",
       "\n",
       "    .dataframe thead th {\n",
       "        text-align: right;\n",
       "    }\n",
       "</style>\n",
       "<table border=\"1\" class=\"dataframe\">\n",
       "  <thead>\n",
       "    <tr style=\"text-align: right;\">\n",
       "      <th></th>\n",
       "      <th>product_code</th>\n",
       "      <th>sale_type</th>\n",
       "      <th>refund_flag</th>\n",
       "    </tr>\n",
       "  </thead>\n",
       "  <tbody>\n",
       "    <tr>\n",
       "      <th>5</th>\n",
       "      <td>8.500002e+09</td>\n",
       "      <td>refunded</td>\n",
       "      <td>9</td>\n",
       "    </tr>\n",
       "    <tr>\n",
       "      <th>48</th>\n",
       "      <td>4.133383e+09</td>\n",
       "      <td>refunded</td>\n",
       "      <td>9</td>\n",
       "    </tr>\n",
       "  </tbody>\n",
       "</table>\n",
       "</div>"
      ],
      "text/plain": [
       "    product_code sale_type  refund_flag\n",
       "5   8.500002e+09  refunded            9\n",
       "48  4.133383e+09  refunded            9"
      ]
     },
     "execution_count": 24,
     "metadata": {},
     "output_type": "execute_result"
    }
   ],
   "source": [
    "# change sale_type column to 'Refunded' for all refunded items and then show the results\n",
    "# lots of way to do this, can use np, lambda func, df.assign but I think this is the best way\n",
    "# i think technically pandas where is just np.where under the hood\n",
    "df_refund = df.copy()\n",
    "df_refund['sale_type'] = df['sale_type'].where(df_refund['refund_flag'] != 9, 'refunded')\n",
    "df_refund[df_refund['sale_type']== 'refunded'][['product_code','sale_type','refund_flag']]"
   ]
  },
  {
   "cell_type": "markdown",
   "id": "6151ee57",
   "metadata": {},
   "source": [
    "![refund_result](images/refund_result.png)"
   ]
  },
  {
   "cell_type": "code",
   "execution_count": 32,
   "id": "948a3b49",
   "metadata": {},
   "outputs": [
    {
     "data": {
      "text/plain": [
       "array(['VOIDED', 'SALE', 'refunded'], dtype=object)"
      ]
     },
     "execution_count": 32,
     "metadata": {},
     "output_type": "execute_result"
    }
   ],
   "source": [
    "# show unique values for the sale_type column\n",
    "# my brain always defaults to set(df_refund['sale_type'].values.tolist()), much worse but i love sets\n",
    "df_refund['sale_type'].unique()\n"
   ]
  },
  {
   "cell_type": "markdown",
   "id": "b32880c7",
   "metadata": {},
   "source": [
    "![unique](images/unique.png)"
   ]
  }
 ],
 "metadata": {
  "kernelspec": {
   "display_name": "Python 3",
   "language": "python",
   "name": "python3"
  },
  "language_info": {
   "codemirror_mode": {
    "name": "ipython",
    "version": 3
   },
   "file_extension": ".py",
   "mimetype": "text/x-python",
   "name": "python",
   "nbconvert_exporter": "python",
   "pygments_lexer": "ipython3",
   "version": "3.11.9"
  }
 },
 "nbformat": 4,
 "nbformat_minor": 5
}
